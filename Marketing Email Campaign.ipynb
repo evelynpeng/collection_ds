{
 "cells": [
  {
   "cell_type": "code",
   "execution_count": 2,
   "metadata": {
    "collapsed": true
   },
   "outputs": [],
   "source": [
    "import warnings\n",
    "warnings.simplefilter('ignore')\n",
    "# Import common package\n",
    "import numpy as np # linear algebra\n",
    "import pandas as pd # data processing, CSV file I/O (e.g. pd.read_csv)\n",
    "import seaborn as sns\n",
    "import matplotlib.pyplot as plt\n",
    "%matplotlib inline"
   ]
  },
  {
   "cell_type": "code",
   "execution_count": 3,
   "metadata": {
    "collapsed": true
   },
   "outputs": [],
   "source": [
    "# Import Model building package\n",
    "from sklearn.model_selection import train_test_split #to split the dataset for training and testing\n",
    "# Supervised\n",
    "from sklearn.linear_model import LogisticRegression  # for Logistic Regression algorithm\n",
    "from sklearn.tree import DecisionTreeClassifier, export_graphviz #for using Decision Tree Algoithm\n",
    "from sklearn.ensemble import RandomForestClassifier \n",
    "# Unsupervised\n",
    "from sklearn.neighbors import KNeighborsClassifier  # for K nearest neighbours\n",
    "from sklearn import svm  #for Support Vector Machine (SVM) Algorithm\n",
    "# Evaluate model performace\n",
    "from sklearn import metrics #for checking the model accuracy"
   ]
  },
  {
   "cell_type": "code",
   "execution_count": 4,
   "metadata": {
    "collapsed": true
   },
   "outputs": [],
   "source": [
    "email = pd.read_csv('../data/Marketing Email Campaign/email/email_table.csv')\n",
    "open_df = pd.read_csv('../data/Marketing Email Campaign/email/email_opened_table.csv')\n",
    "click_df = pd.read_csv('../data/Marketing Email Campaign/email/link_clicked_table.csv')"
   ]
  },
  {
   "cell_type": "code",
   "execution_count": 6,
   "metadata": {
    "collapsed": false
   },
   "outputs": [
    {
     "data": {
      "text/html": [
       "<div>\n",
       "<style scoped>\n",
       "    .dataframe tbody tr th:only-of-type {\n",
       "        vertical-align: middle;\n",
       "    }\n",
       "\n",
       "    .dataframe tbody tr th {\n",
       "        vertical-align: top;\n",
       "    }\n",
       "\n",
       "    .dataframe thead th {\n",
       "        text-align: right;\n",
       "    }\n",
       "</style>\n",
       "<table border=\"1\" class=\"dataframe\">\n",
       "  <thead>\n",
       "    <tr style=\"text-align: right;\">\n",
       "      <th></th>\n",
       "      <th>email_id</th>\n",
       "      <th>email_text</th>\n",
       "      <th>email_version</th>\n",
       "      <th>hour</th>\n",
       "      <th>weekday</th>\n",
       "      <th>user_country</th>\n",
       "      <th>user_past_purchases</th>\n",
       "    </tr>\n",
       "  </thead>\n",
       "  <tbody>\n",
       "    <tr>\n",
       "      <th>0</th>\n",
       "      <td>85120</td>\n",
       "      <td>short_email</td>\n",
       "      <td>personalized</td>\n",
       "      <td>2</td>\n",
       "      <td>Sunday</td>\n",
       "      <td>US</td>\n",
       "      <td>5</td>\n",
       "    </tr>\n",
       "    <tr>\n",
       "      <th>1</th>\n",
       "      <td>966622</td>\n",
       "      <td>long_email</td>\n",
       "      <td>personalized</td>\n",
       "      <td>12</td>\n",
       "      <td>Sunday</td>\n",
       "      <td>UK</td>\n",
       "      <td>2</td>\n",
       "    </tr>\n",
       "    <tr>\n",
       "      <th>2</th>\n",
       "      <td>777221</td>\n",
       "      <td>long_email</td>\n",
       "      <td>personalized</td>\n",
       "      <td>11</td>\n",
       "      <td>Wednesday</td>\n",
       "      <td>US</td>\n",
       "      <td>2</td>\n",
       "    </tr>\n",
       "    <tr>\n",
       "      <th>3</th>\n",
       "      <td>493711</td>\n",
       "      <td>short_email</td>\n",
       "      <td>generic</td>\n",
       "      <td>6</td>\n",
       "      <td>Monday</td>\n",
       "      <td>UK</td>\n",
       "      <td>1</td>\n",
       "    </tr>\n",
       "    <tr>\n",
       "      <th>4</th>\n",
       "      <td>106887</td>\n",
       "      <td>long_email</td>\n",
       "      <td>generic</td>\n",
       "      <td>14</td>\n",
       "      <td>Monday</td>\n",
       "      <td>US</td>\n",
       "      <td>6</td>\n",
       "    </tr>\n",
       "  </tbody>\n",
       "</table>\n",
       "</div>"
      ],
      "text/plain": [
       "   email_id   email_text email_version  hour    weekday user_country  \\\n",
       "0     85120  short_email  personalized     2     Sunday           US   \n",
       "1    966622   long_email  personalized    12     Sunday           UK   \n",
       "2    777221   long_email  personalized    11  Wednesday           US   \n",
       "3    493711  short_email       generic     6     Monday           UK   \n",
       "4    106887   long_email       generic    14     Monday           US   \n",
       "\n",
       "   user_past_purchases  \n",
       "0                    5  \n",
       "1                    2  \n",
       "2                    2  \n",
       "3                    1  \n",
       "4                    6  "
      ]
     },
     "execution_count": 6,
     "metadata": {},
     "output_type": "execute_result"
    }
   ],
   "source": [
    "email.head()"
   ]
  },
  {
   "cell_type": "code",
   "execution_count": 5,
   "metadata": {
    "collapsed": false
   },
   "outputs": [
    {
     "name": "stdout",
     "output_type": "stream",
     "text": [
      "<class 'pandas.core.frame.DataFrame'>\n",
      "RangeIndex: 100000 entries, 0 to 99999\n",
      "Data columns (total 7 columns):\n",
      " #   Column               Non-Null Count   Dtype \n",
      "---  ------               --------------   ----- \n",
      " 0   email_id             100000 non-null  int64 \n",
      " 1   email_text           100000 non-null  object\n",
      " 2   email_version        100000 non-null  object\n",
      " 3   hour                 100000 non-null  int64 \n",
      " 4   weekday              100000 non-null  object\n",
      " 5   user_country         100000 non-null  object\n",
      " 6   user_past_purchases  100000 non-null  int64 \n",
      "dtypes: int64(3), object(4)\n",
      "memory usage: 5.3+ MB\n"
     ]
    }
   ],
   "source": [
    "email.info()"
   ]
  },
  {
   "cell_type": "code",
   "execution_count": 7,
   "metadata": {
    "collapsed": false
   },
   "outputs": [
    {
     "data": {
      "text/html": [
       "<div>\n",
       "<style scoped>\n",
       "    .dataframe tbody tr th:only-of-type {\n",
       "        vertical-align: middle;\n",
       "    }\n",
       "\n",
       "    .dataframe tbody tr th {\n",
       "        vertical-align: top;\n",
       "    }\n",
       "\n",
       "    .dataframe thead th {\n",
       "        text-align: right;\n",
       "    }\n",
       "</style>\n",
       "<table border=\"1\" class=\"dataframe\">\n",
       "  <thead>\n",
       "    <tr style=\"text-align: right;\">\n",
       "      <th></th>\n",
       "      <th>email_id</th>\n",
       "      <th>hour</th>\n",
       "      <th>user_past_purchases</th>\n",
       "    </tr>\n",
       "  </thead>\n",
       "  <tbody>\n",
       "    <tr>\n",
       "      <th>count</th>\n",
       "      <td>100000.000000</td>\n",
       "      <td>100000.000000</td>\n",
       "      <td>100000.00000</td>\n",
       "    </tr>\n",
       "    <tr>\n",
       "      <th>mean</th>\n",
       "      <td>498690.196160</td>\n",
       "      <td>9.059300</td>\n",
       "      <td>3.87845</td>\n",
       "    </tr>\n",
       "    <tr>\n",
       "      <th>std</th>\n",
       "      <td>289230.727534</td>\n",
       "      <td>4.439637</td>\n",
       "      <td>3.19611</td>\n",
       "    </tr>\n",
       "    <tr>\n",
       "      <th>min</th>\n",
       "      <td>8.000000</td>\n",
       "      <td>1.000000</td>\n",
       "      <td>0.00000</td>\n",
       "    </tr>\n",
       "    <tr>\n",
       "      <th>25%</th>\n",
       "      <td>246708.250000</td>\n",
       "      <td>6.000000</td>\n",
       "      <td>1.00000</td>\n",
       "    </tr>\n",
       "    <tr>\n",
       "      <th>50%</th>\n",
       "      <td>498447.000000</td>\n",
       "      <td>9.000000</td>\n",
       "      <td>3.00000</td>\n",
       "    </tr>\n",
       "    <tr>\n",
       "      <th>75%</th>\n",
       "      <td>749942.750000</td>\n",
       "      <td>12.000000</td>\n",
       "      <td>6.00000</td>\n",
       "    </tr>\n",
       "    <tr>\n",
       "      <th>max</th>\n",
       "      <td>999998.000000</td>\n",
       "      <td>24.000000</td>\n",
       "      <td>22.00000</td>\n",
       "    </tr>\n",
       "  </tbody>\n",
       "</table>\n",
       "</div>"
      ],
      "text/plain": [
       "            email_id           hour  user_past_purchases\n",
       "count  100000.000000  100000.000000         100000.00000\n",
       "mean   498690.196160       9.059300              3.87845\n",
       "std    289230.727534       4.439637              3.19611\n",
       "min         8.000000       1.000000              0.00000\n",
       "25%    246708.250000       6.000000              1.00000\n",
       "50%    498447.000000       9.000000              3.00000\n",
       "75%    749942.750000      12.000000              6.00000\n",
       "max    999998.000000      24.000000             22.00000"
      ]
     },
     "execution_count": 7,
     "metadata": {},
     "output_type": "execute_result"
    }
   ],
   "source": [
    "email.describe()"
   ]
  },
  {
   "cell_type": "code",
   "execution_count": 10,
   "metadata": {
    "collapsed": false
   },
   "outputs": [
    {
     "data": {
      "text/plain": [
       "email_id               0\n",
       "email_text             0\n",
       "email_version          0\n",
       "hour                   0\n",
       "weekday                0\n",
       "user_country           0\n",
       "user_past_purchases    0\n",
       "dtype: int64"
      ]
     },
     "execution_count": 10,
     "metadata": {},
     "output_type": "execute_result"
    }
   ],
   "source": [
    "email.isnull().sum()"
   ]
  },
  {
   "cell_type": "code",
   "execution_count": 8,
   "metadata": {
    "collapsed": false
   },
   "outputs": [
    {
     "data": {
      "text/html": [
       "<div>\n",
       "<style scoped>\n",
       "    .dataframe tbody tr th:only-of-type {\n",
       "        vertical-align: middle;\n",
       "    }\n",
       "\n",
       "    .dataframe tbody tr th {\n",
       "        vertical-align: top;\n",
       "    }\n",
       "\n",
       "    .dataframe thead th {\n",
       "        text-align: right;\n",
       "    }\n",
       "</style>\n",
       "<table border=\"1\" class=\"dataframe\">\n",
       "  <thead>\n",
       "    <tr style=\"text-align: right;\">\n",
       "      <th></th>\n",
       "      <th>email_id</th>\n",
       "    </tr>\n",
       "  </thead>\n",
       "  <tbody>\n",
       "    <tr>\n",
       "      <th>0</th>\n",
       "      <td>284534</td>\n",
       "    </tr>\n",
       "    <tr>\n",
       "      <th>1</th>\n",
       "      <td>609056</td>\n",
       "    </tr>\n",
       "    <tr>\n",
       "      <th>2</th>\n",
       "      <td>220820</td>\n",
       "    </tr>\n",
       "    <tr>\n",
       "      <th>3</th>\n",
       "      <td>905936</td>\n",
       "    </tr>\n",
       "    <tr>\n",
       "      <th>4</th>\n",
       "      <td>164034</td>\n",
       "    </tr>\n",
       "  </tbody>\n",
       "</table>\n",
       "</div>"
      ],
      "text/plain": [
       "   email_id\n",
       "0    284534\n",
       "1    609056\n",
       "2    220820\n",
       "3    905936\n",
       "4    164034"
      ]
     },
     "execution_count": 8,
     "metadata": {},
     "output_type": "execute_result"
    }
   ],
   "source": [
    "open_df.head()"
   ]
  },
  {
   "cell_type": "code",
   "execution_count": 13,
   "metadata": {
    "collapsed": false
   },
   "outputs": [
    {
     "data": {
      "text/html": [
       "<div>\n",
       "<style scoped>\n",
       "    .dataframe tbody tr th:only-of-type {\n",
       "        vertical-align: middle;\n",
       "    }\n",
       "\n",
       "    .dataframe tbody tr th {\n",
       "        vertical-align: top;\n",
       "    }\n",
       "\n",
       "    .dataframe thead th {\n",
       "        text-align: right;\n",
       "    }\n",
       "</style>\n",
       "<table border=\"1\" class=\"dataframe\">\n",
       "  <thead>\n",
       "    <tr style=\"text-align: right;\">\n",
       "      <th></th>\n",
       "      <th>email_id</th>\n",
       "    </tr>\n",
       "  </thead>\n",
       "  <tbody>\n",
       "    <tr>\n",
       "      <th>0</th>\n",
       "      <td>609056</td>\n",
       "    </tr>\n",
       "    <tr>\n",
       "      <th>1</th>\n",
       "      <td>870980</td>\n",
       "    </tr>\n",
       "    <tr>\n",
       "      <th>2</th>\n",
       "      <td>935124</td>\n",
       "    </tr>\n",
       "    <tr>\n",
       "      <th>3</th>\n",
       "      <td>158501</td>\n",
       "    </tr>\n",
       "    <tr>\n",
       "      <th>4</th>\n",
       "      <td>177561</td>\n",
       "    </tr>\n",
       "  </tbody>\n",
       "</table>\n",
       "</div>"
      ],
      "text/plain": [
       "   email_id\n",
       "0    609056\n",
       "1    870980\n",
       "2    935124\n",
       "3    158501\n",
       "4    177561"
      ]
     },
     "execution_count": 13,
     "metadata": {},
     "output_type": "execute_result"
    }
   ],
   "source": [
    "click_df.head()"
   ]
  },
  {
   "cell_type": "code",
   "execution_count": 14,
   "metadata": {
    "collapsed": true
   },
   "outputs": [],
   "source": [
    "open_df['open'] = 1\n",
    "click_df['click'] = 1\n",
    "data = pd.merge(left=email, right = open_df, on = 'email_id', how = 'left')\n",
    "data = pd.merge(left=data, right = click_df, on = 'email_id', how = 'left')\n",
    "data['open'] = data['open'].fillna(0).astype(int)\n",
    "data['click'] = data['click'].fillna(0).astype(int)"
   ]
  },
  {
   "cell_type": "code",
   "execution_count": 56,
   "metadata": {
    "collapsed": true
   },
   "outputs": [],
   "source": [
    "# def weekday_rank(x):\n",
    "#     weekday = ['Monday', 'Tuesday', 'Wednesday', 'Thursday', 'Friday', 'Saturday', 'Sunday']\n",
    "#     for i in range(len(weekday)):\n",
    "#         if x == weekday[i]:\n",
    "#             return i\n",
    "# data['weekday'] = data['weekday'].apply(weekday_rank)"
   ]
  },
  {
   "cell_type": "markdown",
   "metadata": {},
   "source": [
    "## Answer question 1\n",
    "What percentage of users opened the email?\n",
    "\n",
    "what percentage clicked on the link within the email?"
   ]
  },
  {
   "cell_type": "code",
   "execution_count": 30,
   "metadata": {
    "collapsed": false
   },
   "outputs": [
    {
     "name": "stdout",
     "output_type": "stream",
     "text": [
      "Open rate is 10.345000\n",
      "Click rate is 20.483325\n"
     ]
    }
   ],
   "source": [
    "print('Open rate is %f' % (data['open'].mean()*100))\n",
    "print('Click rate is %f' % (data['click'].sum()*100/data['open'].sum()))"
   ]
  },
  {
   "cell_type": "code",
   "execution_count": 33,
   "metadata": {
    "collapsed": false
   },
   "outputs": [],
   "source": [
    "group = data.groupby('click', as_index = False).agg({'email_id':'nunique'}).rename(columns={'email_id': 'count'})\n",
    "group['percentage'] = group['count']*100/group['count'].sum()"
   ]
  },
  {
   "cell_type": "markdown",
   "metadata": {},
   "source": [
    "## Visualize Data"
   ]
  },
  {
   "cell_type": "code",
   "execution_count": 57,
   "metadata": {
    "collapsed": false
   },
   "outputs": [
    {
     "data": {
      "image/png": "[encoded data removed]",
      "text/plain": [
       "<Figure size 1296x432 with 2 Axes>"
      ]
     },
     "metadata": {
      "needs_background": "light"
     },
     "output_type": "display_data"
    }
   ],
   "source": [
    "fig, ax = plt.subplots(nrows = 1, ncols = 2, figsize=(18,6))\n",
    "sns.barplot(x='click', y = 'count', data = group, ax = ax[0])\n",
    "ax[0].set_title('ID count by Click')\n",
    "\n",
    "sns.barplot(x='click', y = 'percentage', data = group, ax = ax[1])\n",
    "ax[1].set_title('ID percentage by Click')\n",
    "\n",
    "plt.tight_layout()\n",
    "plt.show()"
   ]
  },
  {
   "cell_type": "code",
   "execution_count": 58,
   "metadata": {
    "collapsed": false
   },
   "outputs": [
    {
     "data": {
      "text/plain": [
       "Index(['email_id', 'email_text', 'email_version', 'hour', 'weekday',\n",
       "       'user_country', 'user_past_purchases', 'open', 'click'],\n",
       "      dtype='object')"
      ]
     },
     "execution_count": 58,
     "metadata": {},
     "output_type": "execute_result"
    }
   ],
   "source": [
    "data.columns"
   ]
  },
  {
   "cell_type": "code",
   "execution_count": 59,
   "metadata": {
    "collapsed": false
   },
   "outputs": [
    {
     "data": {
      "image/png": "[encoded data removed]",
      "text/plain": [
       "<Figure size 1296x2880 with 12 Axes>"
      ]
     },
     "metadata": {
      "needs_background": "light"
     },
     "output_type": "display_data"
    }
   ],
   "source": [
    "variable = ['email_text', 'email_version', 'hour', 'weekday','user_country', 'user_past_purchases']\n",
    "fig, ax = plt.subplots(nrows=6, ncols=2, figsize=(18,40))\n",
    "\n",
    "for index, dimension in enumerate(variable):\n",
    "    sns.countplot(x=dimension, data=data, ax = ax[index, 0])\n",
    "    ax[index, 0].set_title('Count by ' + dimension)\n",
    "    sns.barplot(x=dimension, y = 'click', data=data, ax = ax[index, 1])\n",
    "    ax[index, 1].set_title('Click through Rate by ' + dimension)"
   ]
  },
  {
   "cell_type": "markdown",
   "metadata": {},
   "source": [
    "Click through rate is higher with\n",
    "- short email\n",
    "- personlized email\n",
    "- mid night send out \n",
    "- Tuseday, Wednesday and Thursday\n",
    "- English speaking country inclding US and UK\n",
    "- Customer with more past purchases"
   ]
  },
  {
   "cell_type": "markdown",
   "metadata": {},
   "source": [
    "## Model Building"
   ]
  },
  {
   "cell_type": "code",
   "execution_count": 61,
   "metadata": {
    "collapsed": false
   },
   "outputs": [],
   "source": [
    "df = pd.get_dummies(data, columns = ['email_text', 'email_version', 'weekday','user_country'], drop_first=True)"
   ]
  },
  {
   "cell_type": "code",
   "execution_count": 63,
   "metadata": {
    "collapsed": true
   },
   "outputs": [],
   "source": [
    "features_list = df.columns.drop(['email_id', 'open', 'click'])"
   ]
  },
  {
   "cell_type": "code",
   "execution_count": 66,
   "metadata": {
    "collapsed": false
   },
   "outputs": [],
   "source": [
    "# train, test = train_test_split(df, test_size = 0.3)\n",
    "X = df[features_list]# taking the training data features\n",
    "Y = df['click']# output of our training data\n",
    "train_X, test_x, train_y, test_y = train_test_split(X, Y ,test_size=0.2)"
   ]
  },
  {
   "cell_type": "markdown",
   "metadata": {},
   "source": [
    "### Logistic "
   ]
  },
  {
   "cell_type": "code",
   "execution_count": 92,
   "metadata": {
    "collapsed": false
   },
   "outputs": [
    {
     "name": "stdout",
     "output_type": "stream",
     "text": [
      "The accuracy of the Logistic Regression Classifier is 0.9773\n",
      "The roc score of the Logistic Regression Classifier is 0.72767820719766\n",
      "The precision score of Logistic Regression Classifier is 0.0\n",
      "The recall score of the Logistic Regression Classifier is 0.0\n",
      "The f1 score of the Logistic Regression Classifier is 0.0\n"
     ]
    }
   ],
   "source": [
    "# Logistic \n",
    "lg_model = LogisticRegression()\n",
    "lg_model.fit(train_X,train_y)\n",
    "prediction=lg_model.predict(test_x)\n",
    "print('The accuracy of the Logistic Regression Classifier is', metrics.accuracy_score(test_y, prediction))\n",
    "print('The roc score of the Logistic Regression Classifier is', metrics.roc_auc_score(test_y, lg_model.predict_proba(test_x)[:,1]))\n",
    "print('The precision score of Logistic Regression Classifier is', metrics.precision_score(test_y, prediction))\n",
    "print('The recall score of the Logistic Regression Classifier is', metrics.recall_score(test_y, prediction))\n",
    "print('The f1 score of the Logistic Regression Classifier is', metrics.f1_score(test_y, prediction))\n"
   ]
  },
  {
   "cell_type": "markdown",
   "metadata": {},
   "source": [
    "### Decision Tree"
   ]
  },
  {
   "cell_type": "code",
   "execution_count": 100,
   "metadata": {
    "collapsed": false
   },
   "outputs": [
    {
     "name": "stdout",
     "output_type": "stream",
     "text": [
      "The accuracy of the Decision Tree is 0.97725\n",
      "The roc score of the Decision Tree is 0.6944969643506721\n",
      "The precision score of the Decision Tree is 0.0\n",
      "The recall score of the Decision Tree is 0.0\n"
     ]
    }
   ],
   "source": [
    "# Decision Tree\n",
    "from sklearn.tree import DecisionTreeClassifier\n",
    "dt_model = DecisionTreeClassifier(max_depth=4)\n",
    "dt_model.fit(train_X,train_y)\n",
    "prediction=dt_model.predict(test_x)\n",
    "print('The accuracy of the Decision Tree is',metrics.accuracy_score(test_y, prediction))\n",
    "print('The roc score of the Decision Tree is', metrics.roc_auc_score(test_y, dt_model.predict_proba(test_x)[:,1]))\n",
    "print('The precision score of the Decision Tree is', metrics.precision_score(test_y, prediction))\n",
    "print('The recall score of the Decision Tree is', metrics.recall_score(test_y, prediction))\n"
   ]
  },
  {
   "cell_type": "code",
   "execution_count": 101,
   "metadata": {
    "collapsed": false
   },
   "outputs": [
    {
     "data": {
      "image/svg+xml": [
       "<?xml version=\"1.0\" encoding=\"UTF-8\" standalone=\"no\"?>\n",
       "<!DOCTYPE svg PUBLIC \"-//W3C//DTD SVG 1.1//EN\"\n",
       " \"http://www.w3.org/Graphics/SVG/1.1/DTD/svg11.dtd\">\n",
       "<!-- Generated by graphviz version 2.47.0 (20210316.0004)\n",
       " -->\n",
       "<!-- Title: Tree Pages: 1 -->\n",
       "<svg width=\"2410pt\" height=\"485pt\"\n",
       " viewBox=\"0.00 0.00 2410.00 484.50\" xmlns=\"http://www.w3.org/2000/svg\" xmlns:xlink=\"http://www.w3.org/1999/xlink\">\n",
       "<g id=\"graph0\" class=\"graph\" transform=\"scale(1 1) rotate(0) translate(4 480.5)\">\n",
       "<title>Tree</title>\n",
       "<polygon fill=\"white\" stroke=\"transparent\" points=\"-4,4 -4,-480.5 2406,-480.5 2406,4 -4,4\"/>\n",
       "<!-- 0 -->\n",
       "<g id=\"node1\" class=\"node\">\n",
       "<title>0</title>\n",
       "<polygon fill=\"none\" stroke=\"black\" points=\"1292,-476.5 1123,-476.5 1123,-408.5 1292,-408.5 1292,-476.5\"/>\n",
       "<text text-anchor=\"middle\" x=\"1207.5\" y=\"-461.3\" font-family=\"Times,serif\" font-size=\"14.00\">user_past_purchases &lt;= 5.5</text>\n",
       "<text text-anchor=\"middle\" x=\"1207.5\" y=\"-446.3\" font-family=\"Times,serif\" font-size=\"14.00\">gini = 0.041</text>\n",
       "<text text-anchor=\"middle\" x=\"1207.5\" y=\"-431.3\" font-family=\"Times,serif\" font-size=\"14.00\">samples = 100.0%</text>\n",
       "<text text-anchor=\"middle\" x=\"1207.5\" y=\"-416.3\" font-family=\"Times,serif\" font-size=\"14.00\">value = [0.979, 0.021]</text>\n",
       "</g>\n",
       "<!-- 1 -->\n",
       "<g id=\"node2\" class=\"node\">\n",
       "<title>1</title>\n",
       "<polygon fill=\"none\" stroke=\"black\" points=\"997,-372.5 828,-372.5 828,-304.5 997,-304.5 997,-372.5\"/>\n",
       "<text text-anchor=\"middle\" x=\"912.5\" y=\"-357.3\" font-family=\"Times,serif\" font-size=\"14.00\">user_past_purchases &lt;= 0.5</text>\n",
       "<text text-anchor=\"middle\" x=\"912.5\" y=\"-342.3\" font-family=\"Times,serif\" font-size=\"14.00\">gini = 0.026</text>\n",
       "<text text-anchor=\"middle\" x=\"912.5\" y=\"-327.3\" font-family=\"Times,serif\" font-size=\"14.00\">samples = 72.4%</text>\n",
       "<text text-anchor=\"middle\" x=\"912.5\" y=\"-312.3\" font-family=\"Times,serif\" font-size=\"14.00\">value = [0.987, 0.013]</text>\n",
       "</g>\n",
       "<!-- 0&#45;&gt;1 -->\n",
       "<g id=\"edge1\" class=\"edge\">\n",
       "<title>0&#45;&gt;1</title>\n",
       "<path fill=\"none\" stroke=\"black\" d=\"M1122.96,-412.27C1086.71,-399.73 1044.2,-385.04 1006.91,-372.14\"/>\n",
       "<polygon fill=\"black\" stroke=\"black\" points=\"1007.64,-368.69 997.05,-368.73 1005.35,-375.31 1007.64,-368.69\"/>\n",
       "<text text-anchor=\"middle\" x=\"1007.98\" y=\"-387.52\" font-family=\"Times,serif\" font-size=\"14.00\">True</text>\n",
       "</g>\n",
       "<!-- 16 -->\n",
       "<g id=\"node17\" class=\"node\">\n",
       "<title>16</title>\n",
       "<polygon fill=\"none\" stroke=\"black\" points=\"1614.5,-372.5 1438.5,-372.5 1438.5,-304.5 1614.5,-304.5 1614.5,-372.5\"/>\n",
       "<text text-anchor=\"middle\" x=\"1526.5\" y=\"-357.3\" font-family=\"Times,serif\" font-size=\"14.00\">user_past_purchases &lt;= 11.5</text>\n",
       "<text text-anchor=\"middle\" x=\"1526.5\" y=\"-342.3\" font-family=\"Times,serif\" font-size=\"14.00\">gini = 0.077</text>\n",
       "<text text-anchor=\"middle\" x=\"1526.5\" y=\"-327.3\" font-family=\"Times,serif\" font-size=\"14.00\">samples = 27.6%</text>\n",
       "<text text-anchor=\"middle\" x=\"1526.5\" y=\"-312.3\" font-family=\"Times,serif\" font-size=\"14.00\">value = [0.96, 0.04]</text>\n",
       "</g>\n",
       "<!-- 0&#45;&gt;16 -->\n",
       "<g id=\"edge16\" class=\"edge\">\n",
       "<title>0&#45;&gt;16</title>\n",
       "<path fill=\"none\" stroke=\"black\" d=\"M1292.15,-414.43C1334.11,-401.02 1385,-384.74 1428.62,-370.8\"/>\n",
       "<polygon fill=\"black\" stroke=\"black\" points=\"1429.93,-374.05 1438.39,-367.67 1427.8,-367.38 1429.93,-374.05\"/>\n",
       "<text text-anchor=\"middle\" x=\"1426.94\" y=\"-386.19\" font-family=\"Times,serif\" font-size=\"14.00\">False</text>\n",
       "</g>\n",
       "<!-- 2 -->\n",
       "<g id=\"node3\" class=\"node\">\n",
       "<title>2</title>\n",
       "<polygon fill=\"none\" stroke=\"black\" points=\"508.5,-268.5 368.5,-268.5 368.5,-200.5 508.5,-200.5 508.5,-268.5\"/>\n",
       "<text text-anchor=\"middle\" x=\"438.5\" y=\"-253.3\" font-family=\"Times,serif\" font-size=\"14.00\">hour &lt;= 12.5</text>\n",
       "<text text-anchor=\"middle\" x=\"438.5\" y=\"-238.3\" font-family=\"Times,serif\" font-size=\"14.00\">gini = 0.001</text>\n",
       "<text text-anchor=\"middle\" x=\"438.5\" y=\"-223.3\" font-family=\"Times,serif\" font-size=\"14.00\">samples = 14.0%</text>\n",
       "<text text-anchor=\"middle\" x=\"438.5\" y=\"-208.3\" font-family=\"Times,serif\" font-size=\"14.00\">value = [0.999, 0.001]</text>\n",
       "</g>\n",
       "<!-- 1&#45;&gt;2 -->\n",
       "<g id=\"edge2\" class=\"edge\">\n",
       "<title>1&#45;&gt;2</title>\n",
       "<path fill=\"none\" stroke=\"black\" d=\"M827.76,-319.26C740.16,-300.41 604.43,-271.21 518.58,-252.73\"/>\n",
       "<polygon fill=\"black\" stroke=\"black\" points=\"519.14,-249.27 508.62,-250.59 517.66,-256.12 519.14,-249.27\"/>\n",
       "</g>\n",
       "<!-- 9 -->\n",
       "<g id=\"node10\" class=\"node\">\n",
       "<title>9</title>\n",
       "<polygon fill=\"none\" stroke=\"black\" points=\"1017.5,-268.5 807.5,-268.5 807.5,-200.5 1017.5,-200.5 1017.5,-268.5\"/>\n",
       "<text text-anchor=\"middle\" x=\"912.5\" y=\"-253.3\" font-family=\"Times,serif\" font-size=\"14.00\">email_version_personalized &lt;= 0.5</text>\n",
       "<text text-anchor=\"middle\" x=\"912.5\" y=\"-238.3\" font-family=\"Times,serif\" font-size=\"14.00\">gini = 0.032</text>\n",
       "<text text-anchor=\"middle\" x=\"912.5\" y=\"-223.3\" font-family=\"Times,serif\" font-size=\"14.00\">samples = 58.4%</text>\n",
       "<text text-anchor=\"middle\" x=\"912.5\" y=\"-208.3\" font-family=\"Times,serif\" font-size=\"14.00\">value = [0.984, 0.016]</text>\n",
       "</g>\n",
       "<!-- 1&#45;&gt;9 -->\n",
       "<g id=\"edge9\" class=\"edge\">\n",
       "<title>1&#45;&gt;9</title>\n",
       "<path fill=\"none\" stroke=\"black\" d=\"M912.5,-304.38C912.5,-296.28 912.5,-287.48 912.5,-278.97\"/>\n",
       "<polygon fill=\"black\" stroke=\"black\" points=\"916,-278.8 912.5,-268.8 909,-278.8 916,-278.8\"/>\n",
       "</g>\n",
       "<!-- 3 -->\n",
       "<g id=\"node4\" class=\"node\">\n",
       "<title>3</title>\n",
       "<polygon fill=\"none\" stroke=\"black\" points=\"261,-164.5 142,-164.5 142,-96.5 261,-96.5 261,-164.5\"/>\n",
       "<text text-anchor=\"middle\" x=\"201.5\" y=\"-149.3\" font-family=\"Times,serif\" font-size=\"14.00\">weekday_4 &lt;= 0.5</text>\n",
       "<text text-anchor=\"middle\" x=\"201.5\" y=\"-134.3\" font-family=\"Times,serif\" font-size=\"14.00\">gini = 0.0</text>\n",
       "<text text-anchor=\"middle\" x=\"201.5\" y=\"-119.3\" font-family=\"Times,serif\" font-size=\"14.00\">samples = 10.9%</text>\n",
       "<text text-anchor=\"middle\" x=\"201.5\" y=\"-104.3\" font-family=\"Times,serif\" font-size=\"14.00\">value = [1.0, 0.0]</text>\n",
       "</g>\n",
       "<!-- 2&#45;&gt;3 -->\n",
       "<g id=\"edge3\" class=\"edge\">\n",
       "<title>2&#45;&gt;3</title>\n",
       "<path fill=\"none\" stroke=\"black\" d=\"M368.35,-203.31C337.43,-190 301.2,-174.41 270.42,-161.16\"/>\n",
       "<polygon fill=\"black\" stroke=\"black\" points=\"271.62,-157.87 261.05,-157.13 268.85,-164.3 271.62,-157.87\"/>\n",
       "</g>\n",
       "<!-- 6 -->\n",
       "<g id=\"node7\" class=\"node\">\n",
       "<title>6</title>\n",
       "<polygon fill=\"none\" stroke=\"black\" points=\"508.5,-164.5 368.5,-164.5 368.5,-96.5 508.5,-96.5 508.5,-164.5\"/>\n",
       "<text text-anchor=\"middle\" x=\"438.5\" y=\"-149.3\" font-family=\"Times,serif\" font-size=\"14.00\">weekday_1 &lt;= 0.5</text>\n",
       "<text text-anchor=\"middle\" x=\"438.5\" y=\"-134.3\" font-family=\"Times,serif\" font-size=\"14.00\">gini = 0.003</text>\n",
       "<text text-anchor=\"middle\" x=\"438.5\" y=\"-119.3\" font-family=\"Times,serif\" font-size=\"14.00\">samples = 3.0%</text>\n",
       "<text text-anchor=\"middle\" x=\"438.5\" y=\"-104.3\" font-family=\"Times,serif\" font-size=\"14.00\">value = [0.998, 0.002]</text>\n",
       "</g>\n",
       "<!-- 2&#45;&gt;6 -->\n",
       "<g id=\"edge6\" class=\"edge\">\n",
       "<title>2&#45;&gt;6</title>\n",
       "<path fill=\"none\" stroke=\"black\" d=\"M438.5,-200.38C438.5,-192.28 438.5,-183.48 438.5,-174.97\"/>\n",
       "<polygon fill=\"black\" stroke=\"black\" points=\"442,-174.8 438.5,-164.8 435,-174.8 442,-174.8\"/>\n",
       "</g>\n",
       "<!-- 4 -->\n",
       "<g id=\"node5\" class=\"node\">\n",
       "<title>4</title>\n",
       "<polygon fill=\"none\" stroke=\"black\" points=\"113,-53 0,-53 0,0 113,0 113,-53\"/>\n",
       "<text text-anchor=\"middle\" x=\"56.5\" y=\"-37.8\" font-family=\"Times,serif\" font-size=\"14.00\">gini = 0.0</text>\n",
       "<text text-anchor=\"middle\" x=\"56.5\" y=\"-22.8\" font-family=\"Times,serif\" font-size=\"14.00\">samples = 9.4%</text>\n",
       "<text text-anchor=\"middle\" x=\"56.5\" y=\"-7.8\" font-family=\"Times,serif\" font-size=\"14.00\">value = [1.0, 0.0]</text>\n",
       "</g>\n",
       "<!-- 3&#45;&gt;4 -->\n",
       "<g id=\"edge4\" class=\"edge\">\n",
       "<title>3&#45;&gt;4</title>\n",
       "<path fill=\"none\" stroke=\"black\" d=\"M154.42,-96.38C137.38,-84.4 118.19,-70.9 101.35,-59.05\"/>\n",
       "<polygon fill=\"black\" stroke=\"black\" points=\"102.97,-55.91 92.78,-53.02 98.94,-61.64 102.97,-55.91\"/>\n",
       "</g>\n",
       "<!-- 5 -->\n",
       "<g id=\"node6\" class=\"node\">\n",
       "<title>5</title>\n",
       "<polygon fill=\"none\" stroke=\"black\" points=\"271.5,-53 131.5,-53 131.5,0 271.5,0 271.5,-53\"/>\n",
       "<text text-anchor=\"middle\" x=\"201.5\" y=\"-37.8\" font-family=\"Times,serif\" font-size=\"14.00\">gini = 0.002</text>\n",
       "<text text-anchor=\"middle\" x=\"201.5\" y=\"-22.8\" font-family=\"Times,serif\" font-size=\"14.00\">samples = 1.5%</text>\n",
       "<text text-anchor=\"middle\" x=\"201.5\" y=\"-7.8\" font-family=\"Times,serif\" font-size=\"14.00\">value = [0.999, 0.001]</text>\n",
       "</g>\n",
       "<!-- 3&#45;&gt;5 -->\n",
       "<g id=\"edge5\" class=\"edge\">\n",
       "<title>3&#45;&gt;5</title>\n",
       "<path fill=\"none\" stroke=\"black\" d=\"M201.5,-96.38C201.5,-85.83 201.5,-74.1 201.5,-63.35\"/>\n",
       "<polygon fill=\"black\" stroke=\"black\" points=\"205,-63.02 201.5,-53.02 198,-63.02 205,-63.02\"/>\n",
       "</g>\n",
       "<!-- 7 -->\n",
       "<g id=\"node8\" class=\"node\">\n",
       "<title>7</title>\n",
       "<polygon fill=\"none\" stroke=\"black\" points=\"429.5,-53 289.5,-53 289.5,0 429.5,0 429.5,-53\"/>\n",
       "<text text-anchor=\"middle\" x=\"359.5\" y=\"-37.8\" font-family=\"Times,serif\" font-size=\"14.00\">gini = 0.002</text>\n",
       "<text text-anchor=\"middle\" x=\"359.5\" y=\"-22.8\" font-family=\"Times,serif\" font-size=\"14.00\">samples = 2.6%</text>\n",
       "<text text-anchor=\"middle\" x=\"359.5\" y=\"-7.8\" font-family=\"Times,serif\" font-size=\"14.00\">value = [0.999, 0.001]</text>\n",
       "</g>\n",
       "<!-- 6&#45;&gt;7 -->\n",
       "<g id=\"edge7\" class=\"edge\">\n",
       "<title>6&#45;&gt;7</title>\n",
       "<path fill=\"none\" stroke=\"black\" d=\"M412.85,-96.38C404.08,-85.06 394.26,-72.38 385.46,-61.02\"/>\n",
       "<polygon fill=\"black\" stroke=\"black\" points=\"388.16,-58.78 379.27,-53.02 382.62,-63.07 388.16,-58.78\"/>\n",
       "</g>\n",
       "<!-- 8 -->\n",
       "<g id=\"node9\" class=\"node\">\n",
       "<title>8</title>\n",
       "<polygon fill=\"none\" stroke=\"black\" points=\"587.5,-53 447.5,-53 447.5,0 587.5,0 587.5,-53\"/>\n",
       "<text text-anchor=\"middle\" x=\"517.5\" y=\"-37.8\" font-family=\"Times,serif\" font-size=\"14.00\">gini = 0.012</text>\n",
       "<text text-anchor=\"middle\" x=\"517.5\" y=\"-22.8\" font-family=\"Times,serif\" font-size=\"14.00\">samples = 0.4%</text>\n",
       "<text text-anchor=\"middle\" x=\"517.5\" y=\"-7.8\" font-family=\"Times,serif\" font-size=\"14.00\">value = [0.994, 0.006]</text>\n",
       "</g>\n",
       "<!-- 6&#45;&gt;8 -->\n",
       "<g id=\"edge8\" class=\"edge\">\n",
       "<title>6&#45;&gt;8</title>\n",
       "<path fill=\"none\" stroke=\"black\" d=\"M464.15,-96.38C472.92,-85.06 482.74,-72.38 491.54,-61.02\"/>\n",
       "<polygon fill=\"black\" stroke=\"black\" points=\"494.38,-63.07 497.73,-53.02 488.84,-58.78 494.38,-63.07\"/>\n",
       "</g>\n",
       "<!-- 10 -->\n",
       "<g id=\"node11\" class=\"node\">\n",
       "<title>10</title>\n",
       "<polygon fill=\"none\" stroke=\"black\" points=\"904,-164.5 735,-164.5 735,-96.5 904,-96.5 904,-164.5\"/>\n",
       "<text text-anchor=\"middle\" x=\"819.5\" y=\"-149.3\" font-family=\"Times,serif\" font-size=\"14.00\">user_past_purchases &lt;= 3.5</text>\n",
       "<text text-anchor=\"middle\" x=\"819.5\" y=\"-134.3\" font-family=\"Times,serif\" font-size=\"14.00\">gini = 0.021</text>\n",
       "<text text-anchor=\"middle\" x=\"819.5\" y=\"-119.3\" font-family=\"Times,serif\" font-size=\"14.00\">samples = 29.4%</text>\n",
       "<text text-anchor=\"middle\" x=\"819.5\" y=\"-104.3\" font-family=\"Times,serif\" font-size=\"14.00\">value = [0.989, 0.011]</text>\n",
       "</g>\n",
       "<!-- 9&#45;&gt;10 -->\n",
       "<g id=\"edge10\" class=\"edge\">\n",
       "<title>9&#45;&gt;10</title>\n",
       "<path fill=\"none\" stroke=\"black\" d=\"M882.31,-200.38C874.18,-191.48 865.3,-181.74 856.84,-172.46\"/>\n",
       "<polygon fill=\"black\" stroke=\"black\" points=\"859.19,-169.83 849.86,-164.8 854.01,-174.55 859.19,-169.83\"/>\n",
       "</g>\n",
       "<!-- 13 -->\n",
       "<g id=\"node14\" class=\"node\">\n",
       "<title>13</title>\n",
       "<polygon fill=\"none\" stroke=\"black\" points=\"1091,-164.5 922,-164.5 922,-96.5 1091,-96.5 1091,-164.5\"/>\n",
       "<text text-anchor=\"middle\" x=\"1006.5\" y=\"-149.3\" font-family=\"Times,serif\" font-size=\"14.00\">user_past_purchases &lt;= 3.5</text>\n",
       "<text text-anchor=\"middle\" x=\"1006.5\" y=\"-134.3\" font-family=\"Times,serif\" font-size=\"14.00\">gini = 0.043</text>\n",
       "<text text-anchor=\"middle\" x=\"1006.5\" y=\"-119.3\" font-family=\"Times,serif\" font-size=\"14.00\">samples = 29.0%</text>\n",
       "<text text-anchor=\"middle\" x=\"1006.5\" y=\"-104.3\" font-family=\"Times,serif\" font-size=\"14.00\">value = [0.978, 0.022]</text>\n",
       "</g>\n",
       "<!-- 9&#45;&gt;13 -->\n",
       "<g id=\"edge13\" class=\"edge\">\n",
       "<title>9&#45;&gt;13</title>\n",
       "<path fill=\"none\" stroke=\"black\" d=\"M943.02,-200.38C951.31,-191.39 960.38,-181.54 969.01,-172.18\"/>\n",
       "<polygon fill=\"black\" stroke=\"black\" points=\"971.61,-174.52 975.81,-164.8 966.46,-169.78 971.61,-174.52\"/>\n",
       "</g>\n",
       "<!-- 11 -->\n",
       "<g id=\"node12\" class=\"node\">\n",
       "<title>11</title>\n",
       "<polygon fill=\"none\" stroke=\"black\" points=\"745.5,-53 605.5,-53 605.5,0 745.5,0 745.5,-53\"/>\n",
       "<text text-anchor=\"middle\" x=\"675.5\" y=\"-37.8\" font-family=\"Times,serif\" font-size=\"14.00\">gini = 0.017</text>\n",
       "<text text-anchor=\"middle\" x=\"675.5\" y=\"-22.8\" font-family=\"Times,serif\" font-size=\"14.00\">samples = 19.5%</text>\n",
       "<text text-anchor=\"middle\" x=\"675.5\" y=\"-7.8\" font-family=\"Times,serif\" font-size=\"14.00\">value = [0.991, 0.009]</text>\n",
       "</g>\n",
       "<!-- 10&#45;&gt;11 -->\n",
       "<g id=\"edge11\" class=\"edge\">\n",
       "<title>10&#45;&gt;11</title>\n",
       "<path fill=\"none\" stroke=\"black\" d=\"M772.75,-96.38C755.82,-84.4 736.77,-70.9 720.04,-59.05\"/>\n",
       "<polygon fill=\"black\" stroke=\"black\" points=\"721.71,-55.94 711.53,-53.02 717.67,-61.66 721.71,-55.94\"/>\n",
       "</g>\n",
       "<!-- 12 -->\n",
       "<g id=\"node13\" class=\"node\">\n",
       "<title>12</title>\n",
       "<polygon fill=\"none\" stroke=\"black\" points=\"903.5,-53 763.5,-53 763.5,0 903.5,0 903.5,-53\"/>\n",
       "<text text-anchor=\"middle\" x=\"833.5\" y=\"-37.8\" font-family=\"Times,serif\" font-size=\"14.00\">gini = 0.029</text>\n",
       "<text text-anchor=\"middle\" x=\"833.5\" y=\"-22.8\" font-family=\"Times,serif\" font-size=\"14.00\">samples = 10.0%</text>\n",
       "<text text-anchor=\"middle\" x=\"833.5\" y=\"-7.8\" font-family=\"Times,serif\" font-size=\"14.00\">value = [0.985, 0.015]</text>\n",
       "</g>\n",
       "<!-- 10&#45;&gt;12 -->\n",
       "<g id=\"edge12\" class=\"edge\">\n",
       "<title>10&#45;&gt;12</title>\n",
       "<path fill=\"none\" stroke=\"black\" d=\"M824.05,-96.38C825.51,-85.72 827.14,-73.85 828.62,-63.02\"/>\n",
       "<polygon fill=\"black\" stroke=\"black\" points=\"832.1,-63.4 830,-53.02 825.17,-62.45 832.1,-63.4\"/>\n",
       "</g>\n",
       "<!-- 14 -->\n",
       "<g id=\"node15\" class=\"node\">\n",
       "<title>14</title>\n",
       "<polygon fill=\"none\" stroke=\"black\" points=\"1061.5,-53 921.5,-53 921.5,0 1061.5,0 1061.5,-53\"/>\n",
       "<text text-anchor=\"middle\" x=\"991.5\" y=\"-37.8\" font-family=\"Times,serif\" font-size=\"14.00\">gini = 0.036</text>\n",
       "<text text-anchor=\"middle\" x=\"991.5\" y=\"-22.8\" font-family=\"Times,serif\" font-size=\"14.00\">samples = 19.3%</text>\n",
       "<text text-anchor=\"middle\" x=\"991.5\" y=\"-7.8\" font-family=\"Times,serif\" font-size=\"14.00\">value = [0.981, 0.019]</text>\n",
       "</g>\n",
       "<!-- 13&#45;&gt;14 -->\n",
       "<g id=\"edge14\" class=\"edge\">\n",
       "<title>13&#45;&gt;14</title>\n",
       "<path fill=\"none\" stroke=\"black\" d=\"M1001.63,-96.38C1000.06,-85.72 998.32,-73.85 996.72,-63.02\"/>\n",
       "<polygon fill=\"black\" stroke=\"black\" points=\"1000.17,-62.4 995.25,-53.02 993.25,-63.42 1000.17,-62.4\"/>\n",
       "</g>\n",
       "<!-- 15 -->\n",
       "<g id=\"node16\" class=\"node\">\n",
       "<title>15</title>\n",
       "<polygon fill=\"none\" stroke=\"black\" points=\"1205.5,-53 1079.5,-53 1079.5,0 1205.5,0 1205.5,-53\"/>\n",
       "<text text-anchor=\"middle\" x=\"1142.5\" y=\"-37.8\" font-family=\"Times,serif\" font-size=\"14.00\">gini = 0.057</text>\n",
       "<text text-anchor=\"middle\" x=\"1142.5\" y=\"-22.8\" font-family=\"Times,serif\" font-size=\"14.00\">samples = 9.7%</text>\n",
       "<text text-anchor=\"middle\" x=\"1142.5\" y=\"-7.8\" font-family=\"Times,serif\" font-size=\"14.00\">value = [0.97, 0.03]</text>\n",
       "</g>\n",
       "<!-- 13&#45;&gt;15 -->\n",
       "<g id=\"edge15\" class=\"edge\">\n",
       "<title>13&#45;&gt;15</title>\n",
       "<path fill=\"none\" stroke=\"black\" d=\"M1050.66,-96.38C1066.64,-84.4 1084.63,-70.9 1100.43,-59.05\"/>\n",
       "<polygon fill=\"black\" stroke=\"black\" points=\"1102.57,-61.82 1108.47,-53.02 1098.37,-56.22 1102.57,-61.82\"/>\n",
       "</g>\n",
       "<!-- 17 -->\n",
       "<g id=\"node18\" class=\"node\">\n",
       "<title>17</title>\n",
       "<polygon fill=\"none\" stroke=\"black\" points=\"1631.5,-268.5 1421.5,-268.5 1421.5,-200.5 1631.5,-200.5 1631.5,-268.5\"/>\n",
       "<text text-anchor=\"middle\" x=\"1526.5\" y=\"-253.3\" font-family=\"Times,serif\" font-size=\"14.00\">email_version_personalized &lt;= 0.5</text>\n",
       "<text text-anchor=\"middle\" x=\"1526.5\" y=\"-238.3\" font-family=\"Times,serif\" font-size=\"14.00\">gini = 0.071</text>\n",
       "<text text-anchor=\"middle\" x=\"1526.5\" y=\"-223.3\" font-family=\"Times,serif\" font-size=\"14.00\">samples = 25.3%</text>\n",
       "<text text-anchor=\"middle\" x=\"1526.5\" y=\"-208.3\" font-family=\"Times,serif\" font-size=\"14.00\">value = [0.963, 0.037]</text>\n",
       "</g>\n",
       "<!-- 16&#45;&gt;17 -->\n",
       "<g id=\"edge17\" class=\"edge\">\n",
       "<title>16&#45;&gt;17</title>\n",
       "<path fill=\"none\" stroke=\"black\" d=\"M1526.5,-304.38C1526.5,-296.28 1526.5,-287.48 1526.5,-278.97\"/>\n",
       "<polygon fill=\"black\" stroke=\"black\" points=\"1530,-278.8 1526.5,-268.8 1523,-278.8 1530,-278.8\"/>\n",
       "</g>\n",
       "<!-- 24 -->\n",
       "<g id=\"node25\" class=\"node\">\n",
       "<title>24</title>\n",
       "<polygon fill=\"none\" stroke=\"black\" points=\"2042.5,-268.5 1866.5,-268.5 1866.5,-200.5 2042.5,-200.5 2042.5,-268.5\"/>\n",
       "<text text-anchor=\"middle\" x=\"1954.5\" y=\"-253.3\" font-family=\"Times,serif\" font-size=\"14.00\">user_past_purchases &lt;= 20.5</text>\n",
       "<text text-anchor=\"middle\" x=\"1954.5\" y=\"-238.3\" font-family=\"Times,serif\" font-size=\"14.00\">gini = 0.146</text>\n",
       "<text text-anchor=\"middle\" x=\"1954.5\" y=\"-223.3\" font-family=\"Times,serif\" font-size=\"14.00\">samples = 2.3%</text>\n",
       "<text text-anchor=\"middle\" x=\"1954.5\" y=\"-208.3\" font-family=\"Times,serif\" font-size=\"14.00\">value = [0.921, 0.079]</text>\n",
       "</g>\n",
       "<!-- 16&#45;&gt;24 -->\n",
       "<g id=\"edge24\" class=\"edge\">\n",
       "<title>16&#45;&gt;24</title>\n",
       "<path fill=\"none\" stroke=\"black\" d=\"M1614.66,-316.49C1685.01,-299.72 1783.5,-276.25 1856.35,-258.89\"/>\n",
       "<polygon fill=\"black\" stroke=\"black\" points=\"1857.54,-262.21 1866.45,-256.48 1855.91,-255.4 1857.54,-262.21\"/>\n",
       "</g>\n",
       "<!-- 18 -->\n",
       "<g id=\"node19\" class=\"node\">\n",
       "<title>18</title>\n",
       "<polygon fill=\"none\" stroke=\"black\" points=\"1513.5,-164.5 1361.5,-164.5 1361.5,-96.5 1513.5,-96.5 1513.5,-164.5\"/>\n",
       "<text text-anchor=\"middle\" x=\"1437.5\" y=\"-149.3\" font-family=\"Times,serif\" font-size=\"14.00\">user_country_FR &lt;= 0.5</text>\n",
       "<text text-anchor=\"middle\" x=\"1437.5\" y=\"-134.3\" font-family=\"Times,serif\" font-size=\"14.00\">gini = 0.054</text>\n",
       "<text text-anchor=\"middle\" x=\"1437.5\" y=\"-119.3\" font-family=\"Times,serif\" font-size=\"14.00\">samples = 12.7%</text>\n",
       "<text text-anchor=\"middle\" x=\"1437.5\" y=\"-104.3\" font-family=\"Times,serif\" font-size=\"14.00\">value = [0.972, 0.028]</text>\n",
       "</g>\n",
       "<!-- 17&#45;&gt;18 -->\n",
       "<g id=\"edge18\" class=\"edge\">\n",
       "<title>17&#45;&gt;18</title>\n",
       "<path fill=\"none\" stroke=\"black\" d=\"M1497.6,-200.38C1489.83,-191.48 1481.33,-181.74 1473.24,-172.46\"/>\n",
       "<polygon fill=\"black\" stroke=\"black\" points=\"1475.77,-170.03 1466.56,-164.8 1470.49,-174.64 1475.77,-170.03\"/>\n",
       "</g>\n",
       "<!-- 21 -->\n",
       "<g id=\"node22\" class=\"node\">\n",
       "<title>21</title>\n",
       "<polygon fill=\"none\" stroke=\"black\" points=\"1701,-164.5 1532,-164.5 1532,-96.5 1701,-96.5 1701,-164.5\"/>\n",
       "<text text-anchor=\"middle\" x=\"1616.5\" y=\"-149.3\" font-family=\"Times,serif\" font-size=\"14.00\">user_past_purchases &lt;= 8.5</text>\n",
       "<text text-anchor=\"middle\" x=\"1616.5\" y=\"-134.3\" font-family=\"Times,serif\" font-size=\"14.00\">gini = 0.088</text>\n",
       "<text text-anchor=\"middle\" x=\"1616.5\" y=\"-119.3\" font-family=\"Times,serif\" font-size=\"14.00\">samples = 12.6%</text>\n",
       "<text text-anchor=\"middle\" x=\"1616.5\" y=\"-104.3\" font-family=\"Times,serif\" font-size=\"14.00\">value = [0.954, 0.046]</text>\n",
       "</g>\n",
       "<!-- 17&#45;&gt;21 -->\n",
       "<g id=\"edge21\" class=\"edge\">\n",
       "<title>17&#45;&gt;21</title>\n",
       "<path fill=\"none\" stroke=\"black\" d=\"M1555.72,-200.38C1563.58,-191.48 1572.17,-181.74 1580.36,-172.46\"/>\n",
       "<polygon fill=\"black\" stroke=\"black\" points=\"1583.13,-174.61 1587.12,-164.8 1577.88,-169.98 1583.13,-174.61\"/>\n",
       "</g>\n",
       "<!-- 19 -->\n",
       "<g id=\"node20\" class=\"node\">\n",
       "<title>19</title>\n",
       "<polygon fill=\"none\" stroke=\"black\" points=\"1363.5,-53 1223.5,-53 1223.5,0 1363.5,0 1363.5,-53\"/>\n",
       "<text text-anchor=\"middle\" x=\"1293.5\" y=\"-37.8\" font-family=\"Times,serif\" font-size=\"14.00\">gini = 0.057</text>\n",
       "<text text-anchor=\"middle\" x=\"1293.5\" y=\"-22.8\" font-family=\"Times,serif\" font-size=\"14.00\">samples = 11.4%</text>\n",
       "<text text-anchor=\"middle\" x=\"1293.5\" y=\"-7.8\" font-family=\"Times,serif\" font-size=\"14.00\">value = [0.971, 0.029]</text>\n",
       "</g>\n",
       "<!-- 18&#45;&gt;19 -->\n",
       "<g id=\"edge19\" class=\"edge\">\n",
       "<title>18&#45;&gt;19</title>\n",
       "<path fill=\"none\" stroke=\"black\" d=\"M1390.75,-96.38C1373.82,-84.4 1354.77,-70.9 1338.04,-59.05\"/>\n",
       "<polygon fill=\"black\" stroke=\"black\" points=\"1339.71,-55.94 1329.53,-53.02 1335.67,-61.66 1339.71,-55.94\"/>\n",
       "</g>\n",
       "<!-- 20 -->\n",
       "<g id=\"node21\" class=\"node\">\n",
       "<title>20</title>\n",
       "<polygon fill=\"none\" stroke=\"black\" points=\"1521.5,-53 1381.5,-53 1381.5,0 1521.5,0 1521.5,-53\"/>\n",
       "<text text-anchor=\"middle\" x=\"1451.5\" y=\"-37.8\" font-family=\"Times,serif\" font-size=\"14.00\">gini = 0.023</text>\n",
       "<text text-anchor=\"middle\" x=\"1451.5\" y=\"-22.8\" font-family=\"Times,serif\" font-size=\"14.00\">samples = 1.3%</text>\n",
       "<text text-anchor=\"middle\" x=\"1451.5\" y=\"-7.8\" font-family=\"Times,serif\" font-size=\"14.00\">value = [0.989, 0.011]</text>\n",
       "</g>\n",
       "<!-- 18&#45;&gt;20 -->\n",
       "<g id=\"edge20\" class=\"edge\">\n",
       "<title>18&#45;&gt;20</title>\n",
       "<path fill=\"none\" stroke=\"black\" d=\"M1442.05,-96.38C1443.51,-85.72 1445.14,-73.85 1446.62,-63.02\"/>\n",
       "<polygon fill=\"black\" stroke=\"black\" points=\"1450.1,-63.4 1448,-53.02 1443.17,-62.45 1450.1,-63.4\"/>\n",
       "</g>\n",
       "<!-- 22 -->\n",
       "<g id=\"node23\" class=\"node\">\n",
       "<title>22</title>\n",
       "<polygon fill=\"none\" stroke=\"black\" points=\"1665.5,-53 1539.5,-53 1539.5,0 1665.5,0 1665.5,-53\"/>\n",
       "<text text-anchor=\"middle\" x=\"1602.5\" y=\"-37.8\" font-family=\"Times,serif\" font-size=\"14.00\">gini = 0.077</text>\n",
       "<text text-anchor=\"middle\" x=\"1602.5\" y=\"-22.8\" font-family=\"Times,serif\" font-size=\"14.00\">samples = 9.1%</text>\n",
       "<text text-anchor=\"middle\" x=\"1602.5\" y=\"-7.8\" font-family=\"Times,serif\" font-size=\"14.00\">value = [0.96, 0.04]</text>\n",
       "</g>\n",
       "<!-- 21&#45;&gt;22 -->\n",
       "<g id=\"edge22\" class=\"edge\">\n",
       "<title>21&#45;&gt;22</title>\n",
       "<path fill=\"none\" stroke=\"black\" d=\"M1611.95,-96.38C1610.49,-85.72 1608.86,-73.85 1607.38,-63.02\"/>\n",
       "<polygon fill=\"black\" stroke=\"black\" points=\"1610.83,-62.45 1606,-53.02 1603.9,-63.4 1610.83,-62.45\"/>\n",
       "</g>\n",
       "<!-- 23 -->\n",
       "<g id=\"node24\" class=\"node\">\n",
       "<title>23</title>\n",
       "<polygon fill=\"none\" stroke=\"black\" points=\"1823.5,-53 1683.5,-53 1683.5,0 1823.5,0 1823.5,-53\"/>\n",
       "<text text-anchor=\"middle\" x=\"1753.5\" y=\"-37.8\" font-family=\"Times,serif\" font-size=\"14.00\">gini = 0.116</text>\n",
       "<text text-anchor=\"middle\" x=\"1753.5\" y=\"-22.8\" font-family=\"Times,serif\" font-size=\"14.00\">samples = 3.5%</text>\n",
       "<text text-anchor=\"middle\" x=\"1753.5\" y=\"-7.8\" font-family=\"Times,serif\" font-size=\"14.00\">value = [0.938, 0.062]</text>\n",
       "</g>\n",
       "<!-- 21&#45;&gt;23 -->\n",
       "<g id=\"edge23\" class=\"edge\">\n",
       "<title>21&#45;&gt;23</title>\n",
       "<path fill=\"none\" stroke=\"black\" d=\"M1660.98,-96.38C1677.08,-84.4 1695.21,-70.9 1711.12,-59.05\"/>\n",
       "<polygon fill=\"black\" stroke=\"black\" points=\"1713.29,-61.8 1719.22,-53.02 1709.11,-56.18 1713.29,-61.8\"/>\n",
       "</g>\n",
       "<!-- 25 -->\n",
       "<g id=\"node26\" class=\"node\">\n",
       "<title>25</title>\n",
       "<polygon fill=\"none\" stroke=\"black\" points=\"2059.5,-164.5 1849.5,-164.5 1849.5,-96.5 2059.5,-96.5 2059.5,-164.5\"/>\n",
       "<text text-anchor=\"middle\" x=\"1954.5\" y=\"-149.3\" font-family=\"Times,serif\" font-size=\"14.00\">email_version_personalized &lt;= 0.5</text>\n",
       "<text text-anchor=\"middle\" x=\"1954.5\" y=\"-134.3\" font-family=\"Times,serif\" font-size=\"14.00\">gini = 0.145</text>\n",
       "<text text-anchor=\"middle\" x=\"1954.5\" y=\"-119.3\" font-family=\"Times,serif\" font-size=\"14.00\">samples = 2.3%</text>\n",
       "<text text-anchor=\"middle\" x=\"1954.5\" y=\"-104.3\" font-family=\"Times,serif\" font-size=\"14.00\">value = [0.921, 0.079]</text>\n",
       "</g>\n",
       "<!-- 24&#45;&gt;25 -->\n",
       "<g id=\"edge25\" class=\"edge\">\n",
       "<title>24&#45;&gt;25</title>\n",
       "<path fill=\"none\" stroke=\"black\" d=\"M1954.5,-200.38C1954.5,-192.28 1954.5,-183.48 1954.5,-174.97\"/>\n",
       "<polygon fill=\"black\" stroke=\"black\" points=\"1958,-174.8 1954.5,-164.8 1951,-174.8 1958,-174.8\"/>\n",
       "</g>\n",
       "<!-- 28 -->\n",
       "<g id=\"node29\" class=\"node\">\n",
       "<title>28</title>\n",
       "<polygon fill=\"none\" stroke=\"black\" points=\"2308,-164.5 2121,-164.5 2121,-96.5 2308,-96.5 2308,-164.5\"/>\n",
       "<text text-anchor=\"middle\" x=\"2214.5\" y=\"-149.3\" font-family=\"Times,serif\" font-size=\"14.00\">email_text_short_email &lt;= 0.5</text>\n",
       "<text text-anchor=\"middle\" x=\"2214.5\" y=\"-134.3\" font-family=\"Times,serif\" font-size=\"14.00\">gini = 0.444</text>\n",
       "<text text-anchor=\"middle\" x=\"2214.5\" y=\"-119.3\" font-family=\"Times,serif\" font-size=\"14.00\">samples = 0.0%</text>\n",
       "<text text-anchor=\"middle\" x=\"2214.5\" y=\"-104.3\" font-family=\"Times,serif\" font-size=\"14.00\">value = [0.333, 0.667]</text>\n",
       "</g>\n",
       "<!-- 24&#45;&gt;28 -->\n",
       "<g id=\"edge28\" class=\"edge\">\n",
       "<title>24&#45;&gt;28</title>\n",
       "<path fill=\"none\" stroke=\"black\" d=\"M2038.91,-200.38C2065.04,-190.13 2093.99,-178.78 2120.71,-168.29\"/>\n",
       "<polygon fill=\"black\" stroke=\"black\" points=\"2122.03,-171.54 2130.06,-164.62 2119.48,-165.02 2122.03,-171.54\"/>\n",
       "</g>\n",
       "<!-- 26 -->\n",
       "<g id=\"node27\" class=\"node\">\n",
       "<title>26</title>\n",
       "<polygon fill=\"none\" stroke=\"black\" points=\"1981.5,-53 1841.5,-53 1841.5,0 1981.5,0 1981.5,-53\"/>\n",
       "<text text-anchor=\"middle\" x=\"1911.5\" y=\"-37.8\" font-family=\"Times,serif\" font-size=\"14.00\">gini = 0.111</text>\n",
       "<text text-anchor=\"middle\" x=\"1911.5\" y=\"-22.8\" font-family=\"Times,serif\" font-size=\"14.00\">samples = 1.1%</text>\n",
       "<text text-anchor=\"middle\" x=\"1911.5\" y=\"-7.8\" font-family=\"Times,serif\" font-size=\"14.00\">value = [0.941, 0.059]</text>\n",
       "</g>\n",
       "<!-- 25&#45;&gt;26 -->\n",
       "<g id=\"edge26\" class=\"edge\">\n",
       "<title>25&#45;&gt;26</title>\n",
       "<path fill=\"none\" stroke=\"black\" d=\"M1940.54,-96.38C1935.95,-85.5 1930.83,-73.36 1926.19,-62.35\"/>\n",
       "<polygon fill=\"black\" stroke=\"black\" points=\"1929.37,-60.87 1922.26,-53.02 1922.92,-63.59 1929.37,-60.87\"/>\n",
       "</g>\n",
       "<!-- 27 -->\n",
       "<g id=\"node28\" class=\"node\">\n",
       "<title>27</title>\n",
       "<polygon fill=\"none\" stroke=\"black\" points=\"2139.5,-53 1999.5,-53 1999.5,0 2139.5,0 2139.5,-53\"/>\n",
       "<text text-anchor=\"middle\" x=\"2069.5\" y=\"-37.8\" font-family=\"Times,serif\" font-size=\"14.00\">gini = 0.177</text>\n",
       "<text text-anchor=\"middle\" x=\"2069.5\" y=\"-22.8\" font-family=\"Times,serif\" font-size=\"14.00\">samples = 1.2%</text>\n",
       "<text text-anchor=\"middle\" x=\"2069.5\" y=\"-7.8\" font-family=\"Times,serif\" font-size=\"14.00\">value = [0.902, 0.098]</text>\n",
       "</g>\n",
       "<!-- 25&#45;&gt;27 -->\n",
       "<g id=\"edge27\" class=\"edge\">\n",
       "<title>25&#45;&gt;27</title>\n",
       "<path fill=\"none\" stroke=\"black\" d=\"M1991.84,-96.38C2005.1,-84.62 2020.01,-71.39 2033.19,-59.7\"/>\n",
       "<polygon fill=\"black\" stroke=\"black\" points=\"2035.57,-62.27 2040.73,-53.02 2030.92,-57.04 2035.57,-62.27\"/>\n",
       "</g>\n",
       "<!-- 29 -->\n",
       "<g id=\"node30\" class=\"node\">\n",
       "<title>29</title>\n",
       "<polygon fill=\"none\" stroke=\"black\" points=\"2271,-53 2158,-53 2158,0 2271,0 2271,-53\"/>\n",
       "<text text-anchor=\"middle\" x=\"2214.5\" y=\"-37.8\" font-family=\"Times,serif\" font-size=\"14.00\">gini = 0.0</text>\n",
       "<text text-anchor=\"middle\" x=\"2214.5\" y=\"-22.8\" font-family=\"Times,serif\" font-size=\"14.00\">samples = 0.0%</text>\n",
       "<text text-anchor=\"middle\" x=\"2214.5\" y=\"-7.8\" font-family=\"Times,serif\" font-size=\"14.00\">value = [0.0, 1.0]</text>\n",
       "</g>\n",
       "<!-- 28&#45;&gt;29 -->\n",
       "<g id=\"edge29\" class=\"edge\">\n",
       "<title>28&#45;&gt;29</title>\n",
       "<path fill=\"none\" stroke=\"black\" d=\"M2214.5,-96.38C2214.5,-85.83 2214.5,-74.1 2214.5,-63.35\"/>\n",
       "<polygon fill=\"black\" stroke=\"black\" points=\"2218,-63.02 2214.5,-53.02 2211,-63.02 2218,-63.02\"/>\n",
       "</g>\n",
       "<!-- 30 -->\n",
       "<g id=\"node31\" class=\"node\">\n",
       "<title>30</title>\n",
       "<polygon fill=\"none\" stroke=\"black\" points=\"2402,-53 2289,-53 2289,0 2402,0 2402,-53\"/>\n",
       "<text text-anchor=\"middle\" x=\"2345.5\" y=\"-37.8\" font-family=\"Times,serif\" font-size=\"14.00\">gini = 0.0</text>\n",
       "<text text-anchor=\"middle\" x=\"2345.5\" y=\"-22.8\" font-family=\"Times,serif\" font-size=\"14.00\">samples = 0.0%</text>\n",
       "<text text-anchor=\"middle\" x=\"2345.5\" y=\"-7.8\" font-family=\"Times,serif\" font-size=\"14.00\">value = [1.0, 0.0]</text>\n",
       "</g>\n",
       "<!-- 28&#45;&gt;30 -->\n",
       "<g id=\"edge30\" class=\"edge\">\n",
       "<title>28&#45;&gt;30</title>\n",
       "<path fill=\"none\" stroke=\"black\" d=\"M2257.03,-96.38C2272.29,-84.51 2289.44,-71.15 2304.56,-59.38\"/>\n",
       "<polygon fill=\"black\" stroke=\"black\" points=\"2306.98,-61.93 2312.72,-53.02 2302.68,-56.4 2306.98,-61.93\"/>\n",
       "</g>\n",
       "</g>\n",
       "</svg>\n"
      ],
      "text/plain": [
       "<graphviz.files.Source at 0x129779c10>"
      ]
     },
     "metadata": {},
     "output_type": "display_data"
    }
   ],
   "source": [
    "import graphviz\n",
    "dot_data = export_graphviz(dt_model,feature_names=features_list,proportion=True,leaves_parallel=True)\n",
    "from IPython.display import display\n",
    "display(graphviz.Source(dot_data))"
   ]
  },
  {
   "cell_type": "markdown",
   "metadata": {},
   "source": [
    "### Random Forest"
   ]
  },
  {
   "cell_type": "code",
   "execution_count": 102,
   "metadata": {
    "collapsed": false
   },
   "outputs": [
    {
     "name": "stdout",
     "output_type": "stream",
     "text": [
      "The accuracy of the Random Forest Classifier is 0.9749\n",
      "The roc score of the Random Forest Classifier is 0.5596596710076444\n",
      "The precision score of Random Forest Classifier is 0.11290322580645161\n",
      "The recall score of the Random Forest Classifier is 0.015418502202643172\n",
      "The f1 score of the Random Forest Classifier is 0.027131782945736434\n"
     ]
    }
   ],
   "source": [
    "# Random Forest\n",
    "rf_model = RandomForestClassifier()\n",
    "rf_model.fit(train_X,train_y)\n",
    "prediction=rf_model.predict(test_x)\n",
    "print('The accuracy of the Random Forest Classifier is', metrics.accuracy_score(test_y, prediction))\n",
    "print('The roc score of the Random Forest Classifier is', metrics.roc_auc_score(test_y, rf_model.predict_proba(test_x)[:,1]))\n",
    "print('The precision score of Random Forest Classifier is', metrics.precision_score(test_y, prediction))\n",
    "print('The recall score of the Random Forest Classifier is', metrics.recall_score(test_y, prediction))\n",
    "print('The f1 score of the Random Forest Classifier is', metrics.f1_score(test_y, prediction))\n",
    "\n"
   ]
  },
  {
   "cell_type": "code",
   "execution_count": 103,
   "metadata": {
    "collapsed": false
   },
   "outputs": [
    {
     "name": "stdout",
     "output_type": "stream",
     "text": [
      "hour       | 0.44817\n",
      "user_past_purchases | 0.37665\n",
      "email_text_short_email | 0.03227\n",
      "email_version_personalized | 0.01989\n",
      "weekday_1  | 0.01784\n",
      "weekday_3  | 0.01571\n",
      "user_country_UK | 0.01562\n",
      "user_country_US | 0.01475\n",
      "weekday_2  | 0.01415\n",
      "weekday_5  | 0.01409\n",
      "weekday_6  | 0.01293\n",
      "weekday_4  | 0.01157\n",
      "user_country_FR | 0.00636\n"
     ]
    },
    {
     "data": {
      "image/png": "[encoded data removed]",
      "text/plain": [
       "<Figure size 432x288 with 1 Axes>"
      ]
     },
     "metadata": {
      "needs_background": "light"
     },
     "output_type": "display_data"
    }
   ],
   "source": [
    "# Feature importance\n",
    "importance = sorted(zip(features_list, rf_model.feature_importances_), key=lambda x:x[1], reverse=True)\n",
    "for feature, val in importance:\n",
    "    print('{0:10s} | {1:.5f}'.format(feature, val))\n",
    "    \n",
    "plt.title('Feature Importances')\n",
    "plt.barh(range(len(importance[:10])), [val for feature, val in importance[:10]][::-1], color='b', align='center')\n",
    "plt.yticks(range(len(importance[:10])), [feature for feature, val in importance[:10]][::-1])\n",
    "plt.xlabel('Relative Importance')\n",
    "plt.show()\n",
    "\n"
   ]
  },
  {
   "cell_type": "markdown",
   "metadata": {},
   "source": [
    "### XGBoost"
   ]
  },
  {
   "cell_type": "code",
   "execution_count": 112,
   "metadata": {
    "collapsed": false
   },
   "outputs": [
    {
     "name": "stdout",
     "output_type": "stream",
     "text": [
      "The accuracy of the XGBoost Classifier is 0.9771\n",
      "The roc score of the XGBoost Classifier is 0.6989395511593345\n",
      "The precision score of XGBoost Classifier is 0.16666666666666666\n",
      "The recall score of the XGBoost Classifier is 0.0022026431718061676\n",
      "The f1 score of the XGBoost Classifier is 0.004347826086956523\n"
     ]
    }
   ],
   "source": [
    "# XGBoost\n",
    "import xgboost as xgboost\n",
    "xgb_model = xgboost.XGBClassifier(max_depth = 7, objective = 'binary:logistic', eval_metric = 'logloss')\n",
    "xgb_model.fit(train_X,train_y)\n",
    "prediction = xgb_model.predict(test_x)\n",
    "\n",
    "print('The accuracy of the XGBoost Classifier is', metrics.accuracy_score(test_y, prediction))\n",
    "print('The roc score of the XGBoost Classifier is', metrics.roc_auc_score(test_y, xgb_model.predict_proba(test_x)[:,1]))\n",
    "print('The precision score of XGBoost Classifier is', metrics.precision_score(test_y, prediction))\n",
    "print('The recall score of the XGBoost Classifier is', metrics.recall_score(test_y, prediction))\n",
    "print('The f1 score of the XGBoost Classifier is', metrics.f1_score(test_y, prediction))\n"
   ]
  },
  {
   "cell_type": "code",
   "execution_count": 105,
   "metadata": {
    "collapsed": false
   },
   "outputs": [
    {
     "data": {
      "text/plain": [
       "<AxesSubplot:title={'center':'Feature importance'}, xlabel='F score', ylabel='Features'>"
      ]
     },
     "execution_count": 105,
     "metadata": {},
     "output_type": "execute_result"
    },
    {
     "data": {
      "image/png": "[encoded data removed]",
      "text/plain": [
       "<Figure size 432x288 with 1 Axes>"
      ]
     },
     "metadata": {
      "needs_background": "light"
     },
     "output_type": "display_data"
    }
   ],
   "source": [
    "# Feature importance\n",
    "xgboost.plot_importance(xgb_model, max_num_features=10)"
   ]
  },
  {
   "cell_type": "code",
   "execution_count": 113,
   "metadata": {
    "collapsed": false
   },
   "outputs": [
    {
     "name": "stdout",
     "output_type": "stream",
     "text": [
      "The accuracy of the XGBoost Classifier with SMOTE is 0.3409\n",
      "The roc score of the XGBoost Classifier with SMOTE is 0.7396405001462719\n",
      "The precision score of XGBoost Classifier with SMOTE is 0.031507656065959955\n",
      "The recall score of the XGBoost Classifier with SMOTE is 0.9427312775330396\n",
      "The f1 score of the XGBoost Classifier with SMOTE is 0.06097734720045591\n"
     ]
    }
   ],
   "source": [
    "from imblearn.over_sampling import SMOTE\n",
    "\n",
    "smote = SMOTE(random_state=42)\n",
    "X_res, y_res = smote.fit_resample(X, Y)\n",
    "# Train xgboost on smoted dataset\n",
    "train_X_smote, test_X_smote, train_y_smote, test_y_smote = train_test_split(X_res, y_res, test_size = 0.3, random_state = 42)\n",
    "XGBmodel_smote = xgboost.XGBClassifier(n_estimators=100, learning_rate=0.08, gamma=0, subsample=0.75,\n",
    "                           colsample_bytree=1, max_depth=7, scale_pos_weight = 12, objective = 'binary:logistic', eval_metric = 'logloss')\n",
    "XGBmodel_smote.fit(train_X_smote,train_y_smote)\n",
    "\n",
    "## Predcit on the original dataset using the smote-xgboost model\n",
    "prediction = XGBmodel_smote.predict(test_x)\n",
    "\n",
    "print('The accuracy of the XGBoost Classifier with SMOTE is', metrics.accuracy_score(test_y, prediction))\n",
    "print('The roc score of the XGBoost Classifier with SMOTE is', metrics.roc_auc_score(test_y, XGBmodel_smote.predict_proba(test_x)[:,1]))\n",
    "print('The precision score of XGBoost Classifier with SMOTE is', metrics.precision_score(test_y, prediction))\n",
    "print('The recall score of the XGBoost Classifier with SMOTE is', metrics.recall_score(test_y, prediction))\n",
    "print('The f1 score of the XGBoost Classifier with SMOTE is', metrics.f1_score(test_y, prediction))\n"
   ]
  },
  {
   "cell_type": "code",
   "execution_count": 114,
   "metadata": {
    "collapsed": false
   },
   "outputs": [
    {
     "data": {
      "image/png": "[encoded data removed]",
      "text/plain": [
       "<Figure size 432x288 with 1 Axes>"
      ]
     },
     "metadata": {
      "needs_background": "light"
     },
     "output_type": "display_data"
    }
   ],
   "source": [
    "plt.figure()\n",
    "\n",
    "# Add the models to the list\n",
    "models = [\n",
    "{\n",
    "    'label': 'Logistic Regression',\n",
    "    # 'model': LogisticRegression(),\n",
    "    'model': lg_model,\n",
    "},\n",
    "{\n",
    "    'label': 'Decision Tree',\n",
    "    # 'model': RandomForestClassifier(),\n",
    "    'model': dt_model,\n",
    "},\n",
    "{\n",
    "    'label': 'Random Forest',\n",
    "    # 'model': RandomForestClassifier(),\n",
    "    'model': rf_model,\n",
    "},\n",
    "{\n",
    "    'label': 'XGBoost',\n",
    "    # 'model': xgboost.XGBClassifier(max_depth = 2, silent  = 1, objective = 'binary:logistic', eval_metric = 'logloss'),\n",
    "    'model': xgb_model,\n",
    "},\n",
    "{\n",
    "    'label': 'XGBoost-Smote',\n",
    "    # 'model': xgboost.XGBClassifier(n_estimators=100, learning_rate=0.08, gamma=0, subsample=0.75,\n",
    "    #                        colsample_bytree=1, max_depth=7, scale_pos_weight = 12, objective = 'binary:logistic', eval_metric = 'logloss'),\n",
    "    'model': XGBmodel_smote,\n",
    "}\n",
    "]\n",
    "\n",
    "# Below for loop iterates through models list\n",
    "for m in models:\n",
    "    model = m['model'] # select the model\n",
    "#     model.fit(train_X,train_y) # train the model\n",
    "    y_pred=model.predict(test_x) # predict the test data\n",
    "# Compute False postive rate, and True positive rate\n",
    "    fpr, tpr, thresholds = metrics.roc_curve(test_y, model.predict_proba(test_x)[:,1])\n",
    "# Calculate Area under the curve to display on the plot\n",
    "    auc = metrics.roc_auc_score(test_y,model.predict_proba(test_x)[:,1])\n",
    "# Now, plot the computed values\n",
    "    plt.plot(fpr, tpr, label='%s ROC (area = %0.2f)' % (m['label'], auc))\n",
    "# Custom settings for the plot \n",
    "plt.plot([0, 1], [0, 1],'r--')\n",
    "plt.xlim([0.0, 1.0])\n",
    "plt.ylim([0.0, 1.05])\n",
    "plt.xlabel('1-Specificity(False Positive Rate)')\n",
    "plt.ylabel('Sensitivity(True Positive Rate)')\n",
    "plt.title('Receiver Operating Characteristic')\n",
    "plt.legend(loc=\"lower right\")\n",
    "plt.show()   # Display"
   ]
  },
  {
   "cell_type": "code",
   "execution_count": 131,
   "metadata": {
    "collapsed": false
   },
   "outputs": [
    {
     "data": {
      "text/html": [
       "<div>\n",
       "<style scoped>\n",
       "    .dataframe tbody tr th:only-of-type {\n",
       "        vertical-align: middle;\n",
       "    }\n",
       "\n",
       "    .dataframe tbody tr th {\n",
       "        vertical-align: top;\n",
       "    }\n",
       "\n",
       "    .dataframe thead th {\n",
       "        text-align: right;\n",
       "    }\n",
       "</style>\n",
       "<table border=\"1\" class=\"dataframe\">\n",
       "  <thead>\n",
       "    <tr style=\"text-align: right;\">\n",
       "      <th></th>\n",
       "      <th>fp</th>\n",
       "      <th>tp</th>\n",
       "      <th>threshold</th>\n",
       "    </tr>\n",
       "  </thead>\n",
       "  <tbody>\n",
       "    <tr>\n",
       "      <th>2977</th>\n",
       "      <td>0.437378</td>\n",
       "      <td>0.803965</td>\n",
       "      <td>0.832016</td>\n",
       "    </tr>\n",
       "    <tr>\n",
       "      <th>2978</th>\n",
       "      <td>0.437430</td>\n",
       "      <td>0.803965</td>\n",
       "      <td>0.831962</td>\n",
       "    </tr>\n",
       "    <tr>\n",
       "      <th>2979</th>\n",
       "      <td>0.437532</td>\n",
       "      <td>0.803965</td>\n",
       "      <td>0.831879</td>\n",
       "    </tr>\n",
       "    <tr>\n",
       "      <th>2980</th>\n",
       "      <td>0.437839</td>\n",
       "      <td>0.803965</td>\n",
       "      <td>0.831712</td>\n",
       "    </tr>\n",
       "    <tr>\n",
       "      <th>2981</th>\n",
       "      <td>0.437941</td>\n",
       "      <td>0.803965</td>\n",
       "      <td>0.831501</td>\n",
       "    </tr>\n",
       "    <tr>\n",
       "      <th>...</th>\n",
       "      <td>...</td>\n",
       "      <td>...</td>\n",
       "      <td>...</td>\n",
       "    </tr>\n",
       "    <tr>\n",
       "      <th>3052</th>\n",
       "      <td>0.449299</td>\n",
       "      <td>0.812775</td>\n",
       "      <td>0.822901</td>\n",
       "    </tr>\n",
       "    <tr>\n",
       "      <th>3053</th>\n",
       "      <td>0.449401</td>\n",
       "      <td>0.812775</td>\n",
       "      <td>0.822772</td>\n",
       "    </tr>\n",
       "    <tr>\n",
       "      <th>3054</th>\n",
       "      <td>0.449453</td>\n",
       "      <td>0.812775</td>\n",
       "      <td>0.822714</td>\n",
       "    </tr>\n",
       "    <tr>\n",
       "      <th>3055</th>\n",
       "      <td>0.449657</td>\n",
       "      <td>0.812775</td>\n",
       "      <td>0.822704</td>\n",
       "    </tr>\n",
       "    <tr>\n",
       "      <th>3056</th>\n",
       "      <td>0.449760</td>\n",
       "      <td>0.812775</td>\n",
       "      <td>0.822563</td>\n",
       "    </tr>\n",
       "  </tbody>\n",
       "</table>\n",
       "<p>80 rows × 3 columns</p>\n",
       "</div>"
      ],
      "text/plain": [
       "            fp        tp  threshold\n",
       "2977  0.437378  0.803965   0.832016\n",
       "2978  0.437430  0.803965   0.831962\n",
       "2979  0.437532  0.803965   0.831879\n",
       "2980  0.437839  0.803965   0.831712\n",
       "2981  0.437941  0.803965   0.831501\n",
       "...        ...       ...        ...\n",
       "3052  0.449299  0.812775   0.822901\n",
       "3053  0.449401  0.812775   0.822772\n",
       "3054  0.449453  0.812775   0.822714\n",
       "3055  0.449657  0.812775   0.822704\n",
       "3056  0.449760  0.812775   0.822563\n",
       "\n",
       "[80 rows x 3 columns]"
      ]
     },
     "execution_count": 131,
     "metadata": {},
     "output_type": "execute_result"
    }
   ],
   "source": [
    "fpr, tpr, thresholds = metrics.roc_curve(test_y, XGBmodel_smote.predict_proba(test_x)[:,1])\n",
    "fp_tp = pd.DataFrame({'fp': fpr, 'tp': tpr, 'threshold' : thresholds})\n",
    "fp_tp.loc[(fp_tp['tp']>0.8) &(fp_tp['fp']<0.45)]"
   ]
  },
  {
   "cell_type": "code",
   "execution_count": 134,
   "metadata": {
    "collapsed": false
   },
   "outputs": [
    {
     "name": "stdout",
     "output_type": "stream",
     "text": [
      "[[10756  8790]\n",
      " [   85   369]]\n",
      "The accuracy of the XGBoost Classifier with SMOTE is 0.55625\n",
      "The roc score of the XGBoost Classifier with SMOTE is 0.7396405001462719\n",
      "The precision score of XGBoost Classifier with SMOTE is 0.040288241074353096\n",
      "The recall score of the XGBoost Classifier with SMOTE is 0.8127753303964758\n",
      "The f1 score of the XGBoost Classifier with SMOTE is 0.07677103921772599\n",
      "              precision    recall  f1-score   support\n",
      "\n",
      "           0       0.99      0.55      0.71     19546\n",
      "           1       0.04      0.81      0.08       454\n",
      "\n",
      "    accuracy                           0.56     20000\n",
      "   macro avg       0.52      0.68      0.39     20000\n",
      "weighted avg       0.97      0.56      0.69     20000\n",
      "\n"
     ]
    }
   ],
   "source": [
    "# predict with different threshold\n",
    "prediction = (XGBmodel_smote.predict_proba(test_x)[:,1] >= 0.822563).astype(bool) # set threshold as 0.3\n",
    "\n",
    "# and the rows will show the actual number of instances for each label.\n",
    "print(metrics.confusion_matrix(test_y, prediction))\n",
    "\n",
    "print('The accuracy of the XGBoost Classifier with SMOTE is', metrics.accuracy_score(test_y, prediction))\n",
    "print('The roc score of the XGBoost Classifier with SMOTE is', metrics.roc_auc_score(test_y, XGBmodel_smote.predict_proba(test_x)[:,1]))\n",
    "print('The precision score of XGBoost Classifier with SMOTE is', metrics.precision_score(test_y, prediction))\n",
    "print('The recall score of the XGBoost Classifier with SMOTE is', metrics.recall_score(test_y, prediction))\n",
    "print('The f1 score of the XGBoost Classifier with SMOTE is', metrics.f1_score(test_y, prediction))\n",
    "\n",
    "\n",
    "# Printing the precision and recall, among other metrics\n",
    "print(metrics.classification_report(test_y, prediction))"
   ]
  },
  {
   "cell_type": "code",
   "execution_count": 137,
   "metadata": {
    "collapsed": false
   },
   "outputs": [
    {
     "name": "stdout",
     "output_type": "stream",
     "text": [
      "Origin email sent out 20000 with 2.270000 conversion rate\n",
      "Our model sent out  9159 with 4.028824 conversion rate\n"
     ]
    }
   ],
   "source": [
    "print('Origin email sent out %d with %f conversion rate' % (len(test_y), sum(test_y)*100/len(test_y)))\n",
    "print('Our model sent out  %d with %f conversion rate' % (sum(prediction), metrics.precision_score(test_y, prediction)*100))"
   ]
  },
  {
   "cell_type": "markdown",
   "metadata": {},
   "source": [
    "New model only sent out 9159 emails vs the original 20000 emails. This is 54% saving.\n",
    "New model covers 81% of the true cases. "
   ]
  },
  {
   "cell_type": "code",
   "execution_count": null,
   "metadata": {
    "collapsed": true
   },
   "outputs": [],
   "source": []
  }
 ],
 "metadata": {
  "anaconda-cloud": {},
  "kernelspec": {
   "display_name": "Python 3",
   "language": "python",
   "name": "python3"
  },
  "language_info": {
   "codemirror_mode": {
    "name": "ipython",
    "version": 3
   },
   "file_extension": ".py",
   "mimetype": "text/x-python",
   "name": "python",
   "nbconvert_exporter": "python",
   "pygments_lexer": "ipython3",
   "version": "3.8.2"
  }
 },
 "nbformat": 4,
 "nbformat_minor": 1
}
